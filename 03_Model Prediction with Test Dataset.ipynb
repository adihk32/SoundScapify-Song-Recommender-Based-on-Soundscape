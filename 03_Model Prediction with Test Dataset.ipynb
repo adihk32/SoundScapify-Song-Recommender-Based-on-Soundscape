{
 "cells": [
  {
   "cell_type": "markdown",
   "id": "250bc9c5-3a33-46d8-9b63-ee12780ed4c7",
   "metadata": {},
   "source": [
    "# SoundScapify - Song Recommender based on Soundscape (Part 3 of 4)"
   ]
  },
  {
   "cell_type": "markdown",
   "id": "ac932635-8b5c-49a3-bea0-43f7542259a4",
   "metadata": {},
   "source": [
    "This is the third part of the notebooks:  \n",
    "1. Introduction and Train Dataset EDA\n",
    "2. Model Training\n",
    "3. **Model Prediction with Test Dataset**\n",
    "4. Song Dataset Retrieval"
   ]
  },
  {
   "cell_type": "markdown",
   "id": "365ab57d-992e-41e0-a82e-c8ff4151caf5",
   "metadata": {},
   "source": [
    "## Import Packages and Dataset"
   ]
  },
  {
   "cell_type": "code",
   "execution_count": 1,
   "id": "6970afa7-9d90-4cdb-96f7-68a3bb437abb",
   "metadata": {},
   "outputs": [],
   "source": [
    "import pandas as pd\n",
    "import numpy as np\n",
    "from tqdm import tqdm\n",
    "from glob import glob\n",
    "import warnings\n",
    "import librosa\n",
    "import pickle\n",
    "import seaborn as sns\n",
    "import matplotlib.pyplot as plt\n",
    "\n",
    "import tensorflow as tf\n",
    "from tensorflow.keras.utils import to_categorical\n",
    "from tensorflow.keras.models import load_model\n",
    "\n",
    "from sklearn.preprocessing import LabelEncoder\n",
    "from sklearn.metrics import roc_auc_score, roc_curve, auc, confusion_matrix, plot_confusion_matrix"
   ]
  },
  {
   "cell_type": "markdown",
   "id": "33e69e79-5604-41f4-b959-f2688f131d38",
   "metadata": {},
   "source": [
    "### Preprocessing Test Dataset"
   ]
  },
  {
   "cell_type": "code",
   "execution_count": 2,
   "id": "8ec62840-f1a1-45b5-a04a-2cfa0a2872ca",
   "metadata": {},
   "outputs": [
    {
     "data": {
      "text/html": [
       "<div>\n",
       "<style scoped>\n",
       "    .dataframe tbody tr th:only-of-type {\n",
       "        vertical-align: middle;\n",
       "    }\n",
       "\n",
       "    .dataframe tbody tr th {\n",
       "        vertical-align: top;\n",
       "    }\n",
       "\n",
       "    .dataframe thead th {\n",
       "        text-align: right;\n",
       "    }\n",
       "</style>\n",
       "<table border=\"1\" class=\"dataframe\">\n",
       "  <thead>\n",
       "    <tr style=\"text-align: right;\">\n",
       "      <th></th>\n",
       "      <th>filename</th>\n",
       "    </tr>\n",
       "  </thead>\n",
       "  <tbody>\n",
       "    <tr>\n",
       "      <th>0</th>\n",
       "      <td>audio/airport-barcelona-203-6129-0-a.wav</td>\n",
       "    </tr>\n",
       "    <tr>\n",
       "      <th>1</th>\n",
       "      <td>audio/airport-barcelona-203-6129-1-a.wav</td>\n",
       "    </tr>\n",
       "    <tr>\n",
       "      <th>2</th>\n",
       "      <td>audio/airport-barcelona-203-6129-2-a.wav</td>\n",
       "    </tr>\n",
       "    <tr>\n",
       "      <th>3</th>\n",
       "      <td>audio/airport-barcelona-203-6129-3-a.wav</td>\n",
       "    </tr>\n",
       "    <tr>\n",
       "      <th>4</th>\n",
       "      <td>audio/airport-barcelona-203-6129-4-a.wav</td>\n",
       "    </tr>\n",
       "  </tbody>\n",
       "</table>\n",
       "</div>"
      ],
      "text/plain": [
       "                                   filename\n",
       "0  audio/airport-barcelona-203-6129-0-a.wav\n",
       "1  audio/airport-barcelona-203-6129-1-a.wav\n",
       "2  audio/airport-barcelona-203-6129-2-a.wav\n",
       "3  audio/airport-barcelona-203-6129-3-a.wav\n",
       "4  audio/airport-barcelona-203-6129-4-a.wav"
      ]
     },
     "execution_count": 2,
     "metadata": {},
     "output_type": "execute_result"
    }
   ],
   "source": [
    "df_test = pd.read_csv('csv/fold1_test.csv', sep='\\t')\n",
    "df_test.head()"
   ]
  },
  {
   "cell_type": "code",
   "execution_count": 3,
   "id": "5412bdf5-18d8-4f27-9e78-592d30d658e9",
   "metadata": {},
   "outputs": [
    {
     "data": {
      "text/plain": [
       "(29680, 1)"
      ]
     },
     "execution_count": 3,
     "metadata": {},
     "output_type": "execute_result"
    }
   ],
   "source": [
    "df_test.shape"
   ]
  },
  {
   "cell_type": "code",
   "execution_count": 4,
   "id": "725d51b2-2d14-4a7c-b6ba-fab1dc2a5151",
   "metadata": {},
   "outputs": [],
   "source": [
    "# create scene_label & log_melspectrogram column to hold the melspectrogram array \n",
    "df_test['scene_label'] = pd.Series(dtype='object')\n",
    "df_test['log_melspectrogram'] = pd.Series(dtype='object')"
   ]
  },
  {
   "cell_type": "code",
   "execution_count": 5,
   "id": "81951977-9ff9-49ec-982a-442ad494aa62",
   "metadata": {
    "tags": []
   },
   "outputs": [],
   "source": [
    "label_dict = {'park': 'park',\n",
    "              'street_traffic': 'street_traffic',\n",
    "              'metro': 'metro',\n",
    "              'bus': 'bus',\n",
    "             }\n",
    "\n",
    "def LabelData(filedir):\n",
    "    for text,label in label_dict.items():\n",
    "        if text in filedir.lower():\n",
    "            return label\n",
    "    return None"
   ]
  },
  {
   "cell_type": "code",
   "execution_count": 6,
   "id": "16c5c4f7-be45-456c-9203-6b57f343469f",
   "metadata": {},
   "outputs": [
    {
     "data": {
      "text/html": [
       "<div>\n",
       "<style scoped>\n",
       "    .dataframe tbody tr th:only-of-type {\n",
       "        vertical-align: middle;\n",
       "    }\n",
       "\n",
       "    .dataframe tbody tr th {\n",
       "        vertical-align: top;\n",
       "    }\n",
       "\n",
       "    .dataframe thead th {\n",
       "        text-align: right;\n",
       "    }\n",
       "</style>\n",
       "<table border=\"1\" class=\"dataframe\">\n",
       "  <thead>\n",
       "    <tr style=\"text-align: right;\">\n",
       "      <th></th>\n",
       "      <th>filename</th>\n",
       "      <th>scene_label</th>\n",
       "      <th>log_melspectrogram</th>\n",
       "    </tr>\n",
       "  </thead>\n",
       "  <tbody>\n",
       "    <tr>\n",
       "      <th>0</th>\n",
       "      <td>audio/airport-barcelona-203-6129-0-a.wav</td>\n",
       "      <td>None</td>\n",
       "      <td>NaN</td>\n",
       "    </tr>\n",
       "    <tr>\n",
       "      <th>1</th>\n",
       "      <td>audio/airport-barcelona-203-6129-1-a.wav</td>\n",
       "      <td>None</td>\n",
       "      <td>NaN</td>\n",
       "    </tr>\n",
       "    <tr>\n",
       "      <th>2</th>\n",
       "      <td>audio/airport-barcelona-203-6129-2-a.wav</td>\n",
       "      <td>None</td>\n",
       "      <td>NaN</td>\n",
       "    </tr>\n",
       "    <tr>\n",
       "      <th>3</th>\n",
       "      <td>audio/airport-barcelona-203-6129-3-a.wav</td>\n",
       "      <td>None</td>\n",
       "      <td>NaN</td>\n",
       "    </tr>\n",
       "    <tr>\n",
       "      <th>4</th>\n",
       "      <td>audio/airport-barcelona-203-6129-4-a.wav</td>\n",
       "      <td>None</td>\n",
       "      <td>NaN</td>\n",
       "    </tr>\n",
       "    <tr>\n",
       "      <th>5</th>\n",
       "      <td>audio/airport-barcelona-203-6129-5-a.wav</td>\n",
       "      <td>None</td>\n",
       "      <td>NaN</td>\n",
       "    </tr>\n",
       "    <tr>\n",
       "      <th>6</th>\n",
       "      <td>audio/airport-barcelona-203-6129-6-a.wav</td>\n",
       "      <td>None</td>\n",
       "      <td>NaN</td>\n",
       "    </tr>\n",
       "    <tr>\n",
       "      <th>7</th>\n",
       "      <td>audio/airport-barcelona-203-6129-7-a.wav</td>\n",
       "      <td>None</td>\n",
       "      <td>NaN</td>\n",
       "    </tr>\n",
       "    <tr>\n",
       "      <th>8</th>\n",
       "      <td>audio/airport-barcelona-203-6129-8-a.wav</td>\n",
       "      <td>None</td>\n",
       "      <td>NaN</td>\n",
       "    </tr>\n",
       "    <tr>\n",
       "      <th>9</th>\n",
       "      <td>audio/airport-barcelona-203-6129-9-a.wav</td>\n",
       "      <td>None</td>\n",
       "      <td>NaN</td>\n",
       "    </tr>\n",
       "    <tr>\n",
       "      <th>10</th>\n",
       "      <td>audio/airport-barcelona-203-6133-0-a.wav</td>\n",
       "      <td>None</td>\n",
       "      <td>NaN</td>\n",
       "    </tr>\n",
       "    <tr>\n",
       "      <th>11</th>\n",
       "      <td>audio/airport-barcelona-203-6133-1-a.wav</td>\n",
       "      <td>None</td>\n",
       "      <td>NaN</td>\n",
       "    </tr>\n",
       "    <tr>\n",
       "      <th>12</th>\n",
       "      <td>audio/airport-barcelona-203-6133-2-a.wav</td>\n",
       "      <td>None</td>\n",
       "      <td>NaN</td>\n",
       "    </tr>\n",
       "    <tr>\n",
       "      <th>13</th>\n",
       "      <td>audio/airport-barcelona-203-6133-3-a.wav</td>\n",
       "      <td>None</td>\n",
       "      <td>NaN</td>\n",
       "    </tr>\n",
       "    <tr>\n",
       "      <th>14</th>\n",
       "      <td>audio/airport-barcelona-203-6133-4-a.wav</td>\n",
       "      <td>None</td>\n",
       "      <td>NaN</td>\n",
       "    </tr>\n",
       "  </tbody>\n",
       "</table>\n",
       "</div>"
      ],
      "text/plain": [
       "                                    filename scene_label log_melspectrogram\n",
       "0   audio/airport-barcelona-203-6129-0-a.wav        None                NaN\n",
       "1   audio/airport-barcelona-203-6129-1-a.wav        None                NaN\n",
       "2   audio/airport-barcelona-203-6129-2-a.wav        None                NaN\n",
       "3   audio/airport-barcelona-203-6129-3-a.wav        None                NaN\n",
       "4   audio/airport-barcelona-203-6129-4-a.wav        None                NaN\n",
       "5   audio/airport-barcelona-203-6129-5-a.wav        None                NaN\n",
       "6   audio/airport-barcelona-203-6129-6-a.wav        None                NaN\n",
       "7   audio/airport-barcelona-203-6129-7-a.wav        None                NaN\n",
       "8   audio/airport-barcelona-203-6129-8-a.wav        None                NaN\n",
       "9   audio/airport-barcelona-203-6129-9-a.wav        None                NaN\n",
       "10  audio/airport-barcelona-203-6133-0-a.wav        None                NaN\n",
       "11  audio/airport-barcelona-203-6133-1-a.wav        None                NaN\n",
       "12  audio/airport-barcelona-203-6133-2-a.wav        None                NaN\n",
       "13  audio/airport-barcelona-203-6133-3-a.wav        None                NaN\n",
       "14  audio/airport-barcelona-203-6133-4-a.wav        None                NaN"
      ]
     },
     "execution_count": 6,
     "metadata": {},
     "output_type": "execute_result"
    }
   ],
   "source": [
    "# Apply LabelData function to the dataframe\n",
    "df_test['scene_label'] = df_test['filename'].apply(LabelData)\n",
    "df_test.head(15)"
   ]
  },
  {
   "cell_type": "code",
   "execution_count": 7,
   "id": "7ff48d34-b74e-4c47-a4a6-73cecadea3d9",
   "metadata": {},
   "outputs": [
    {
     "data": {
      "text/html": [
       "<div>\n",
       "<style scoped>\n",
       "    .dataframe tbody tr th:only-of-type {\n",
       "        vertical-align: middle;\n",
       "    }\n",
       "\n",
       "    .dataframe tbody tr th {\n",
       "        vertical-align: top;\n",
       "    }\n",
       "\n",
       "    .dataframe thead th {\n",
       "        text-align: right;\n",
       "    }\n",
       "</style>\n",
       "<table border=\"1\" class=\"dataframe\">\n",
       "  <thead>\n",
       "    <tr style=\"text-align: right;\">\n",
       "      <th></th>\n",
       "      <th>filename</th>\n",
       "      <th>scene_label</th>\n",
       "      <th>log_melspectrogram</th>\n",
       "    </tr>\n",
       "  </thead>\n",
       "  <tbody>\n",
       "    <tr>\n",
       "      <th>2960</th>\n",
       "      <td>audio/bus-barcelona-210-6406-0-a.wav</td>\n",
       "      <td>bus</td>\n",
       "      <td>NaN</td>\n",
       "    </tr>\n",
       "    <tr>\n",
       "      <th>2961</th>\n",
       "      <td>audio/bus-barcelona-210-6406-1-a.wav</td>\n",
       "      <td>bus</td>\n",
       "      <td>NaN</td>\n",
       "    </tr>\n",
       "    <tr>\n",
       "      <th>2962</th>\n",
       "      <td>audio/bus-barcelona-210-6406-2-a.wav</td>\n",
       "      <td>bus</td>\n",
       "      <td>NaN</td>\n",
       "    </tr>\n",
       "    <tr>\n",
       "      <th>2963</th>\n",
       "      <td>audio/bus-barcelona-210-6406-3-a.wav</td>\n",
       "      <td>bus</td>\n",
       "      <td>NaN</td>\n",
       "    </tr>\n",
       "    <tr>\n",
       "      <th>2964</th>\n",
       "      <td>audio/bus-barcelona-210-6406-4-a.wav</td>\n",
       "      <td>bus</td>\n",
       "      <td>NaN</td>\n",
       "    </tr>\n",
       "    <tr>\n",
       "      <th>...</th>\n",
       "      <td>...</td>\n",
       "      <td>...</td>\n",
       "      <td>...</td>\n",
       "    </tr>\n",
       "    <tr>\n",
       "      <th>26715</th>\n",
       "      <td>audio/street_traffic-lisbon-1171-45182-5-s6.wav</td>\n",
       "      <td>street_traffic</td>\n",
       "      <td>NaN</td>\n",
       "    </tr>\n",
       "    <tr>\n",
       "      <th>26716</th>\n",
       "      <td>audio/street_traffic-lisbon-1171-45182-6-s6.wav</td>\n",
       "      <td>street_traffic</td>\n",
       "      <td>NaN</td>\n",
       "    </tr>\n",
       "    <tr>\n",
       "      <th>26717</th>\n",
       "      <td>audio/street_traffic-lisbon-1171-45182-7-s6.wav</td>\n",
       "      <td>street_traffic</td>\n",
       "      <td>NaN</td>\n",
       "    </tr>\n",
       "    <tr>\n",
       "      <th>26718</th>\n",
       "      <td>audio/street_traffic-lisbon-1171-45182-8-s6.wav</td>\n",
       "      <td>street_traffic</td>\n",
       "      <td>NaN</td>\n",
       "    </tr>\n",
       "    <tr>\n",
       "      <th>26719</th>\n",
       "      <td>audio/street_traffic-lisbon-1171-45182-9-s6.wav</td>\n",
       "      <td>street_traffic</td>\n",
       "      <td>NaN</td>\n",
       "    </tr>\n",
       "  </tbody>\n",
       "</table>\n",
       "<p>14850 rows × 3 columns</p>\n",
       "</div>"
      ],
      "text/plain": [
       "                                              filename     scene_label  \\\n",
       "2960              audio/bus-barcelona-210-6406-0-a.wav             bus   \n",
       "2961              audio/bus-barcelona-210-6406-1-a.wav             bus   \n",
       "2962              audio/bus-barcelona-210-6406-2-a.wav             bus   \n",
       "2963              audio/bus-barcelona-210-6406-3-a.wav             bus   \n",
       "2964              audio/bus-barcelona-210-6406-4-a.wav             bus   \n",
       "...                                                ...             ...   \n",
       "26715  audio/street_traffic-lisbon-1171-45182-5-s6.wav  street_traffic   \n",
       "26716  audio/street_traffic-lisbon-1171-45182-6-s6.wav  street_traffic   \n",
       "26717  audio/street_traffic-lisbon-1171-45182-7-s6.wav  street_traffic   \n",
       "26718  audio/street_traffic-lisbon-1171-45182-8-s6.wav  street_traffic   \n",
       "26719  audio/street_traffic-lisbon-1171-45182-9-s6.wav  street_traffic   \n",
       "\n",
       "      log_melspectrogram  \n",
       "2960                 NaN  \n",
       "2961                 NaN  \n",
       "2962                 NaN  \n",
       "2963                 NaN  \n",
       "2964                 NaN  \n",
       "...                  ...  \n",
       "26715                NaN  \n",
       "26716                NaN  \n",
       "26717                NaN  \n",
       "26718                NaN  \n",
       "26719                NaN  \n",
       "\n",
       "[14850 rows x 3 columns]"
      ]
     },
     "execution_count": 7,
     "metadata": {},
     "output_type": "execute_result"
    }
   ],
   "source": [
    "# drop rows without any scene label\n",
    "df_test = df_test[df_test['scene_label'].notna()]\n",
    "df_test"
   ]
  },
  {
   "cell_type": "code",
   "execution_count": 8,
   "id": "34fbbc66-82ca-49f4-af83-e40e65bfe029",
   "metadata": {},
   "outputs": [
    {
     "data": {
      "text/html": [
       "<div>\n",
       "<style scoped>\n",
       "    .dataframe tbody tr th:only-of-type {\n",
       "        vertical-align: middle;\n",
       "    }\n",
       "\n",
       "    .dataframe tbody tr th {\n",
       "        vertical-align: top;\n",
       "    }\n",
       "\n",
       "    .dataframe thead th {\n",
       "        text-align: right;\n",
       "    }\n",
       "</style>\n",
       "<table border=\"1\" class=\"dataframe\">\n",
       "  <thead>\n",
       "    <tr style=\"text-align: right;\">\n",
       "      <th></th>\n",
       "      <th>filename</th>\n",
       "      <th>scene_label</th>\n",
       "      <th>log_melspectrogram</th>\n",
       "    </tr>\n",
       "  </thead>\n",
       "  <tbody>\n",
       "    <tr>\n",
       "      <th>2960</th>\n",
       "      <td>audio/bus-barcelona-210-6406-0-a.wav</td>\n",
       "      <td>bus</td>\n",
       "      <td>NaN</td>\n",
       "    </tr>\n",
       "    <tr>\n",
       "      <th>2961</th>\n",
       "      <td>audio/bus-barcelona-210-6406-1-a.wav</td>\n",
       "      <td>bus</td>\n",
       "      <td>NaN</td>\n",
       "    </tr>\n",
       "    <tr>\n",
       "      <th>2962</th>\n",
       "      <td>audio/bus-barcelona-210-6406-2-a.wav</td>\n",
       "      <td>bus</td>\n",
       "      <td>NaN</td>\n",
       "    </tr>\n",
       "    <tr>\n",
       "      <th>2963</th>\n",
       "      <td>audio/bus-barcelona-210-6406-3-a.wav</td>\n",
       "      <td>bus</td>\n",
       "      <td>NaN</td>\n",
       "    </tr>\n",
       "    <tr>\n",
       "      <th>2964</th>\n",
       "      <td>audio/bus-barcelona-210-6406-4-a.wav</td>\n",
       "      <td>bus</td>\n",
       "      <td>NaN</td>\n",
       "    </tr>\n",
       "    <tr>\n",
       "      <th>...</th>\n",
       "      <td>...</td>\n",
       "      <td>...</td>\n",
       "      <td>...</td>\n",
       "    </tr>\n",
       "    <tr>\n",
       "      <th>26715</th>\n",
       "      <td>audio/street_traffic-lisbon-1171-45182-5-s6.wav</td>\n",
       "      <td>street_traffic</td>\n",
       "      <td>NaN</td>\n",
       "    </tr>\n",
       "    <tr>\n",
       "      <th>26716</th>\n",
       "      <td>audio/street_traffic-lisbon-1171-45182-6-s6.wav</td>\n",
       "      <td>street_traffic</td>\n",
       "      <td>NaN</td>\n",
       "    </tr>\n",
       "    <tr>\n",
       "      <th>26717</th>\n",
       "      <td>audio/street_traffic-lisbon-1171-45182-7-s6.wav</td>\n",
       "      <td>street_traffic</td>\n",
       "      <td>NaN</td>\n",
       "    </tr>\n",
       "    <tr>\n",
       "      <th>26718</th>\n",
       "      <td>audio/street_traffic-lisbon-1171-45182-8-s6.wav</td>\n",
       "      <td>street_traffic</td>\n",
       "      <td>NaN</td>\n",
       "    </tr>\n",
       "    <tr>\n",
       "      <th>26719</th>\n",
       "      <td>audio/street_traffic-lisbon-1171-45182-9-s6.wav</td>\n",
       "      <td>street_traffic</td>\n",
       "      <td>NaN</td>\n",
       "    </tr>\n",
       "  </tbody>\n",
       "</table>\n",
       "<p>11880 rows × 3 columns</p>\n",
       "</div>"
      ],
      "text/plain": [
       "                                              filename     scene_label  \\\n",
       "2960              audio/bus-barcelona-210-6406-0-a.wav             bus   \n",
       "2961              audio/bus-barcelona-210-6406-1-a.wav             bus   \n",
       "2962              audio/bus-barcelona-210-6406-2-a.wav             bus   \n",
       "2963              audio/bus-barcelona-210-6406-3-a.wav             bus   \n",
       "2964              audio/bus-barcelona-210-6406-4-a.wav             bus   \n",
       "...                                                ...             ...   \n",
       "26715  audio/street_traffic-lisbon-1171-45182-5-s6.wav  street_traffic   \n",
       "26716  audio/street_traffic-lisbon-1171-45182-6-s6.wav  street_traffic   \n",
       "26717  audio/street_traffic-lisbon-1171-45182-7-s6.wav  street_traffic   \n",
       "26718  audio/street_traffic-lisbon-1171-45182-8-s6.wav  street_traffic   \n",
       "26719  audio/street_traffic-lisbon-1171-45182-9-s6.wav  street_traffic   \n",
       "\n",
       "      log_melspectrogram  \n",
       "2960                 NaN  \n",
       "2961                 NaN  \n",
       "2962                 NaN  \n",
       "2963                 NaN  \n",
       "2964                 NaN  \n",
       "...                  ...  \n",
       "26715                NaN  \n",
       "26716                NaN  \n",
       "26717                NaN  \n",
       "26718                NaN  \n",
       "26719                NaN  \n",
       "\n",
       "[11880 rows x 3 columns]"
      ]
     },
     "execution_count": 8,
     "metadata": {},
     "output_type": "execute_result"
    }
   ],
   "source": [
    "# drop rows that is for metro_station\n",
    "df_test = df_test[df_test['filename'].str.contains('metro_station') != True]\n",
    "df_test"
   ]
  },
  {
   "cell_type": "code",
   "execution_count": 9,
   "id": "9ed066ce-589d-4977-8e42-cf9c3f75ae4e",
   "metadata": {},
   "outputs": [
    {
     "data": {
      "text/html": [
       "<div>\n",
       "<style scoped>\n",
       "    .dataframe tbody tr th:only-of-type {\n",
       "        vertical-align: middle;\n",
       "    }\n",
       "\n",
       "    .dataframe tbody tr th {\n",
       "        vertical-align: top;\n",
       "    }\n",
       "\n",
       "    .dataframe thead th {\n",
       "        text-align: right;\n",
       "    }\n",
       "</style>\n",
       "<table border=\"1\" class=\"dataframe\">\n",
       "  <thead>\n",
       "    <tr style=\"text-align: right;\">\n",
       "      <th></th>\n",
       "      <th>filename</th>\n",
       "      <th>scene_label</th>\n",
       "      <th>log_melspectrogram</th>\n",
       "    </tr>\n",
       "  </thead>\n",
       "  <tbody>\n",
       "    <tr>\n",
       "      <th>0</th>\n",
       "      <td>audio/bus-barcelona-210-6406-0-a.wav</td>\n",
       "      <td>bus</td>\n",
       "      <td>NaN</td>\n",
       "    </tr>\n",
       "    <tr>\n",
       "      <th>1</th>\n",
       "      <td>audio/bus-barcelona-210-6406-1-a.wav</td>\n",
       "      <td>bus</td>\n",
       "      <td>NaN</td>\n",
       "    </tr>\n",
       "    <tr>\n",
       "      <th>2</th>\n",
       "      <td>audio/bus-barcelona-210-6406-2-a.wav</td>\n",
       "      <td>bus</td>\n",
       "      <td>NaN</td>\n",
       "    </tr>\n",
       "    <tr>\n",
       "      <th>3</th>\n",
       "      <td>audio/bus-barcelona-210-6406-3-a.wav</td>\n",
       "      <td>bus</td>\n",
       "      <td>NaN</td>\n",
       "    </tr>\n",
       "    <tr>\n",
       "      <th>4</th>\n",
       "      <td>audio/bus-barcelona-210-6406-4-a.wav</td>\n",
       "      <td>bus</td>\n",
       "      <td>NaN</td>\n",
       "    </tr>\n",
       "    <tr>\n",
       "      <th>...</th>\n",
       "      <td>...</td>\n",
       "      <td>...</td>\n",
       "      <td>...</td>\n",
       "    </tr>\n",
       "    <tr>\n",
       "      <th>11875</th>\n",
       "      <td>audio/street_traffic-lisbon-1171-45182-5-s6.wav</td>\n",
       "      <td>street_traffic</td>\n",
       "      <td>NaN</td>\n",
       "    </tr>\n",
       "    <tr>\n",
       "      <th>11876</th>\n",
       "      <td>audio/street_traffic-lisbon-1171-45182-6-s6.wav</td>\n",
       "      <td>street_traffic</td>\n",
       "      <td>NaN</td>\n",
       "    </tr>\n",
       "    <tr>\n",
       "      <th>11877</th>\n",
       "      <td>audio/street_traffic-lisbon-1171-45182-7-s6.wav</td>\n",
       "      <td>street_traffic</td>\n",
       "      <td>NaN</td>\n",
       "    </tr>\n",
       "    <tr>\n",
       "      <th>11878</th>\n",
       "      <td>audio/street_traffic-lisbon-1171-45182-8-s6.wav</td>\n",
       "      <td>street_traffic</td>\n",
       "      <td>NaN</td>\n",
       "    </tr>\n",
       "    <tr>\n",
       "      <th>11879</th>\n",
       "      <td>audio/street_traffic-lisbon-1171-45182-9-s6.wav</td>\n",
       "      <td>street_traffic</td>\n",
       "      <td>NaN</td>\n",
       "    </tr>\n",
       "  </tbody>\n",
       "</table>\n",
       "<p>11880 rows × 3 columns</p>\n",
       "</div>"
      ],
      "text/plain": [
       "                                              filename     scene_label  \\\n",
       "0                 audio/bus-barcelona-210-6406-0-a.wav             bus   \n",
       "1                 audio/bus-barcelona-210-6406-1-a.wav             bus   \n",
       "2                 audio/bus-barcelona-210-6406-2-a.wav             bus   \n",
       "3                 audio/bus-barcelona-210-6406-3-a.wav             bus   \n",
       "4                 audio/bus-barcelona-210-6406-4-a.wav             bus   \n",
       "...                                                ...             ...   \n",
       "11875  audio/street_traffic-lisbon-1171-45182-5-s6.wav  street_traffic   \n",
       "11876  audio/street_traffic-lisbon-1171-45182-6-s6.wav  street_traffic   \n",
       "11877  audio/street_traffic-lisbon-1171-45182-7-s6.wav  street_traffic   \n",
       "11878  audio/street_traffic-lisbon-1171-45182-8-s6.wav  street_traffic   \n",
       "11879  audio/street_traffic-lisbon-1171-45182-9-s6.wav  street_traffic   \n",
       "\n",
       "      log_melspectrogram  \n",
       "0                    NaN  \n",
       "1                    NaN  \n",
       "2                    NaN  \n",
       "3                    NaN  \n",
       "4                    NaN  \n",
       "...                  ...  \n",
       "11875                NaN  \n",
       "11876                NaN  \n",
       "11877                NaN  \n",
       "11878                NaN  \n",
       "11879                NaN  \n",
       "\n",
       "[11880 rows x 3 columns]"
      ]
     },
     "execution_count": 9,
     "metadata": {},
     "output_type": "execute_result"
    }
   ],
   "source": [
    "df_test.reset_index(inplace= True, drop=True)\n",
    "df_test"
   ]
  },
  {
   "cell_type": "markdown",
   "id": "a4d9ea5d-3f7f-4d56-b9c1-0fe4dd12e878",
   "metadata": {},
   "source": [
    "### Obtain Melspectrogram"
   ]
  },
  {
   "cell_type": "code",
   "execution_count": 10,
   "id": "f46e3d4b-7be5-45af-a930-ed45da7baf9e",
   "metadata": {},
   "outputs": [],
   "source": [
    "def MelSpectrogram(i):\n",
    "    #obtain audio file path\n",
    "    AUDIO_FILE = df_test['filename'].iloc[i]\n",
    "    \n",
    "    #load audio file\n",
    "    signal, sr = librosa.load(AUDIO_FILE)\n",
    "    \n",
    "    #obtain mel spectrogram\n",
    "    mel_spectrogram = librosa.feature.melspectrogram(signal, sr=sr, n_fft=2048, hop_length=512, n_mels=40)\n",
    "    \n",
    "    #change to dB scale\n",
    "    log_mel_spectrogram = librosa.power_to_db(mel_spectrogram)\n",
    "    \n",
    "    return log_mel_spectrogram.T"
   ]
  },
  {
   "cell_type": "code",
   "execution_count": 11,
   "id": "3b8525ab-b47c-46fd-9e75-8b7c6ea1dbef",
   "metadata": {
    "scrolled": true,
    "tags": []
   },
   "outputs": [
    {
     "name": "stderr",
     "output_type": "stream",
     "text": [
      "Progress: 100%|██████████| 11880/11880 [12:51<00:00, 15.39it/s]\n"
     ]
    }
   ],
   "source": [
    "with warnings.catch_warnings():\n",
    "    warnings.simplefilter('ignore')\n",
    "    for i in tqdm(df_test.index, desc='Progress'):\n",
    "        if type(df_test['log_melspectrogram'].iloc[i]) is not np.ndarray:\n",
    "            df_test['log_melspectrogram'].iloc[i] = MelSpectrogram(i)"
   ]
  },
  {
   "cell_type": "code",
   "execution_count": 14,
   "id": "9f57ae7c-9e0c-4788-809a-05017aab4bfd",
   "metadata": {},
   "outputs": [],
   "source": [
    "pickle.dump(df_test, open('csv/clean_testdata.df','wb'))"
   ]
  },
  {
   "cell_type": "markdown",
   "id": "459af902-f27a-419c-b3bb-9be259385bbe",
   "metadata": {},
   "source": [
    "## Preprocessing Data for Modelling"
   ]
  },
  {
   "cell_type": "code",
   "execution_count": 12,
   "id": "d4db18a0-3939-48bd-999d-c1b22c0c0834",
   "metadata": {},
   "outputs": [],
   "source": [
    "df_test = pickle.load(open('csv/clean_testdata.df', 'rb'))"
   ]
  },
  {
   "cell_type": "code",
   "execution_count": 13,
   "id": "2c3b50e4-65cd-481f-b27a-c037b2e2626a",
   "metadata": {},
   "outputs": [
    {
     "data": {
      "text/html": [
       "<div>\n",
       "<style scoped>\n",
       "    .dataframe tbody tr th:only-of-type {\n",
       "        vertical-align: middle;\n",
       "    }\n",
       "\n",
       "    .dataframe tbody tr th {\n",
       "        vertical-align: top;\n",
       "    }\n",
       "\n",
       "    .dataframe thead th {\n",
       "        text-align: right;\n",
       "    }\n",
       "</style>\n",
       "<table border=\"1\" class=\"dataframe\">\n",
       "  <thead>\n",
       "    <tr style=\"text-align: right;\">\n",
       "      <th></th>\n",
       "      <th>filename</th>\n",
       "      <th>scene_label</th>\n",
       "      <th>log_melspectrogram</th>\n",
       "    </tr>\n",
       "  </thead>\n",
       "  <tbody>\n",
       "    <tr>\n",
       "      <th>0</th>\n",
       "      <td>audio/bus-barcelona-210-6406-0-a.wav</td>\n",
       "      <td>bus</td>\n",
       "      <td>[[15.874739, 10.796704, 8.210971, 5.948248, 4....</td>\n",
       "    </tr>\n",
       "    <tr>\n",
       "      <th>1</th>\n",
       "      <td>audio/bus-barcelona-210-6406-1-a.wav</td>\n",
       "      <td>bus</td>\n",
       "      <td>[[19.80442, 8.151323, -1.0134977, -6.521938, -...</td>\n",
       "    </tr>\n",
       "    <tr>\n",
       "      <th>2</th>\n",
       "      <td>audio/bus-barcelona-210-6406-2-a.wav</td>\n",
       "      <td>bus</td>\n",
       "      <td>[[19.108807, 6.315139, -2.6570435, -5.467496, ...</td>\n",
       "    </tr>\n",
       "    <tr>\n",
       "      <th>3</th>\n",
       "      <td>audio/bus-barcelona-210-6406-3-a.wav</td>\n",
       "      <td>bus</td>\n",
       "      <td>[[20.328829, 11.800287, 0.14797902, -1.9814003...</td>\n",
       "    </tr>\n",
       "    <tr>\n",
       "      <th>4</th>\n",
       "      <td>audio/bus-barcelona-210-6406-4-a.wav</td>\n",
       "      <td>bus</td>\n",
       "      <td>[[27.740614, 11.900111, 0.70303327, -0.8866443...</td>\n",
       "    </tr>\n",
       "    <tr>\n",
       "      <th>...</th>\n",
       "      <td>...</td>\n",
       "      <td>...</td>\n",
       "      <td>...</td>\n",
       "    </tr>\n",
       "    <tr>\n",
       "      <th>11875</th>\n",
       "      <td>audio/street_traffic-lisbon-1171-45182-5-s6.wav</td>\n",
       "      <td>street_traffic</td>\n",
       "      <td>[[11.187963, 21.085938, 15.1520815, 9.684376, ...</td>\n",
       "    </tr>\n",
       "    <tr>\n",
       "      <th>11876</th>\n",
       "      <td>audio/street_traffic-lisbon-1171-45182-6-s6.wav</td>\n",
       "      <td>street_traffic</td>\n",
       "      <td>[[17.213293, 22.630634, 14.375606, 3.6936471, ...</td>\n",
       "    </tr>\n",
       "    <tr>\n",
       "      <th>11877</th>\n",
       "      <td>audio/street_traffic-lisbon-1171-45182-7-s6.wav</td>\n",
       "      <td>street_traffic</td>\n",
       "      <td>[[12.599348, 18.757893, 9.549774, 10.291174, 6...</td>\n",
       "    </tr>\n",
       "    <tr>\n",
       "      <th>11878</th>\n",
       "      <td>audio/street_traffic-lisbon-1171-45182-8-s6.wav</td>\n",
       "      <td>street_traffic</td>\n",
       "      <td>[[15.474168, 17.520737, 13.170336, 14.472099, ...</td>\n",
       "    </tr>\n",
       "    <tr>\n",
       "      <th>11879</th>\n",
       "      <td>audio/street_traffic-lisbon-1171-45182-9-s6.wav</td>\n",
       "      <td>street_traffic</td>\n",
       "      <td>[[9.719199, 14.614855, 15.432425, 7.2881703, 2...</td>\n",
       "    </tr>\n",
       "  </tbody>\n",
       "</table>\n",
       "<p>11880 rows × 3 columns</p>\n",
       "</div>"
      ],
      "text/plain": [
       "                                              filename     scene_label  \\\n",
       "0                 audio/bus-barcelona-210-6406-0-a.wav             bus   \n",
       "1                 audio/bus-barcelona-210-6406-1-a.wav             bus   \n",
       "2                 audio/bus-barcelona-210-6406-2-a.wav             bus   \n",
       "3                 audio/bus-barcelona-210-6406-3-a.wav             bus   \n",
       "4                 audio/bus-barcelona-210-6406-4-a.wav             bus   \n",
       "...                                                ...             ...   \n",
       "11875  audio/street_traffic-lisbon-1171-45182-5-s6.wav  street_traffic   \n",
       "11876  audio/street_traffic-lisbon-1171-45182-6-s6.wav  street_traffic   \n",
       "11877  audio/street_traffic-lisbon-1171-45182-7-s6.wav  street_traffic   \n",
       "11878  audio/street_traffic-lisbon-1171-45182-8-s6.wav  street_traffic   \n",
       "11879  audio/street_traffic-lisbon-1171-45182-9-s6.wav  street_traffic   \n",
       "\n",
       "                                      log_melspectrogram  \n",
       "0      [[15.874739, 10.796704, 8.210971, 5.948248, 4....  \n",
       "1      [[19.80442, 8.151323, -1.0134977, -6.521938, -...  \n",
       "2      [[19.108807, 6.315139, -2.6570435, -5.467496, ...  \n",
       "3      [[20.328829, 11.800287, 0.14797902, -1.9814003...  \n",
       "4      [[27.740614, 11.900111, 0.70303327, -0.8866443...  \n",
       "...                                                  ...  \n",
       "11875  [[11.187963, 21.085938, 15.1520815, 9.684376, ...  \n",
       "11876  [[17.213293, 22.630634, 14.375606, 3.6936471, ...  \n",
       "11877  [[12.599348, 18.757893, 9.549774, 10.291174, 6...  \n",
       "11878  [[15.474168, 17.520737, 13.170336, 14.472099, ...  \n",
       "11879  [[9.719199, 14.614855, 15.432425, 7.2881703, 2...  \n",
       "\n",
       "[11880 rows x 3 columns]"
      ]
     },
     "execution_count": 13,
     "metadata": {},
     "output_type": "execute_result"
    }
   ],
   "source": [
    "df_test"
   ]
  },
  {
   "cell_type": "markdown",
   "id": "8ab6acf3-7b94-4000-9b96-1c7fde3dc4ae",
   "metadata": {},
   "source": [
    "### Label Encoding the `scene_label` Value (y_true)"
   ]
  },
  {
   "cell_type": "code",
   "execution_count": 14,
   "id": "ba51c3bb-9984-4a13-a3d1-f5a3b449e2b7",
   "metadata": {},
   "outputs": [
    {
     "data": {
      "text/plain": [
       "0        0\n",
       "1        0\n",
       "2        0\n",
       "3        0\n",
       "4        0\n",
       "        ..\n",
       "11875    3\n",
       "11876    3\n",
       "11877    3\n",
       "11878    3\n",
       "11879    3\n",
       "Length: 11880, dtype: int32"
      ]
     },
     "execution_count": 14,
     "metadata": {},
     "output_type": "execute_result"
    }
   ],
   "source": [
    "classes = df_test['scene_label'].unique()\n",
    "\n",
    "le = LabelEncoder()\n",
    "le.fit(classes)\n",
    "\n",
    "y_true = df_test['scene_label']\n",
    "y_true = pd.Series(le.transform(y_true))\n",
    "y_true"
   ]
  },
  {
   "cell_type": "code",
   "execution_count": 48,
   "id": "40fadabd-b2b9-41b8-b5b2-e5a332dd020f",
   "metadata": {},
   "outputs": [
    {
     "data": {
      "text/plain": [
       "0    2970\n",
       "1    2970\n",
       "2    2970\n",
       "3    2970\n",
       "dtype: int64"
      ]
     },
     "execution_count": 48,
     "metadata": {},
     "output_type": "execute_result"
    }
   ],
   "source": [
    "y_true.value_counts()"
   ]
  },
  {
   "cell_type": "code",
   "execution_count": 15,
   "id": "d12e219b-4095-4590-b6a1-f693601047f0",
   "metadata": {},
   "outputs": [
    {
     "data": {
      "text/plain": [
       "array(['bus', 'metro', 'park', 'street_traffic'], dtype=object)"
      ]
     },
     "execution_count": 15,
     "metadata": {},
     "output_type": "execute_result"
    }
   ],
   "source": [
    "classes"
   ]
  },
  {
   "cell_type": "markdown",
   "id": "ff55f4ac-8ec7-40bb-beed-a453df6b9705",
   "metadata": {},
   "source": [
    "### The input data for the Model (X_test)"
   ]
  },
  {
   "cell_type": "code",
   "execution_count": 35,
   "id": "fb684c60-e09a-4caa-be0d-300311b2c042",
   "metadata": {},
   "outputs": [
    {
     "data": {
      "text/plain": [
       "0        [[15.874739, 10.796704, 8.210971, 5.948248, 4....\n",
       "1        [[19.80442, 8.151323, -1.0134977, -6.521938, -...\n",
       "2        [[19.108807, 6.315139, -2.6570435, -5.467496, ...\n",
       "3        [[20.328829, 11.800287, 0.14797902, -1.9814003...\n",
       "4        [[27.740614, 11.900111, 0.70303327, -0.8866443...\n",
       "                               ...                        \n",
       "11875    [[11.187963, 21.085938, 15.1520815, 9.684376, ...\n",
       "11876    [[17.213293, 22.630634, 14.375606, 3.6936471, ...\n",
       "11877    [[12.599348, 18.757893, 9.549774, 10.291174, 6...\n",
       "11878    [[15.474168, 17.520737, 13.170336, 14.472099, ...\n",
       "11879    [[9.719199, 14.614855, 15.432425, 7.2881703, 2...\n",
       "Name: log_melspectrogram, Length: 11880, dtype: object"
      ]
     },
     "execution_count": 35,
     "metadata": {},
     "output_type": "execute_result"
    }
   ],
   "source": [
    "X_ev = df_test['log_melspectrogram']\n",
    "X_ev"
   ]
  },
  {
   "cell_type": "code",
   "execution_count": 29,
   "id": "ab3ac842-fbf3-4721-821d-e74043e4024b",
   "metadata": {},
   "outputs": [
    {
     "data": {
      "text/plain": [
       "0        [[[15.874739], [10.796704], [8.210971], [5.948...\n",
       "1        [[[19.80442], [8.151323], [-1.0134977], [-6.52...\n",
       "2        [[[19.108807], [6.315139], [-2.6570435], [-5.4...\n",
       "3        [[[20.328829], [11.800287], [0.14797902], [-1....\n",
       "4        [[[27.740614], [11.900111], [0.70303327], [-0....\n",
       "                               ...                        \n",
       "11875    [[[11.187963], [21.085938], [15.1520815], [9.6...\n",
       "11876    [[[17.213293], [22.630634], [14.375606], [3.69...\n",
       "11877    [[[12.599348], [18.757893], [9.549774], [10.29...\n",
       "11878    [[[15.474168], [17.520737], [13.170336], [14.4...\n",
       "11879    [[[9.719199], [14.614855], [15.432425], [7.288...\n",
       "Name: log_melspectrogram, Length: 11880, dtype: object"
      ]
     },
     "execution_count": 29,
     "metadata": {},
     "output_type": "execute_result"
    }
   ],
   "source": [
    "X_test = df_test['log_melspectrogram'].apply(lambda x: np.expand_dims(x,axis=2))\n",
    "X_test"
   ]
  },
  {
   "cell_type": "code",
   "execution_count": 30,
   "id": "28756cf6-30be-4ea1-b25b-619dbb3e684d",
   "metadata": {},
   "outputs": [
    {
     "data": {
      "text/plain": [
       "(44, 40, 1)"
      ]
     },
     "execution_count": 30,
     "metadata": {},
     "output_type": "execute_result"
    }
   ],
   "source": [
    "X_test[0].shape"
   ]
  },
  {
   "cell_type": "code",
   "execution_count": 18,
   "id": "af17abfe-1754-453a-9f02-0f2035ea2902",
   "metadata": {},
   "outputs": [],
   "source": [
    "X_test = X_test.tolist()\n",
    "X_test = np.array(X_test, dtype=np.float32)"
   ]
  },
  {
   "cell_type": "code",
   "execution_count": 19,
   "id": "b56f1044-8e4f-4778-937b-38ed3f4e3448",
   "metadata": {},
   "outputs": [
    {
     "data": {
      "text/plain": [
       "(11880, 44, 40, 1)"
      ]
     },
     "execution_count": 19,
     "metadata": {},
     "output_type": "execute_result"
    }
   ],
   "source": [
    "X_test.shape"
   ]
  },
  {
   "cell_type": "markdown",
   "id": "a6a2b210-da10-4dae-a2c7-ea19ed3715e2",
   "metadata": {},
   "source": [
    "## Prediction on Test Dataset"
   ]
  },
  {
   "cell_type": "code",
   "execution_count": 20,
   "id": "7244af3b-5348-4279-b425-062dfafd9bb9",
   "metadata": {},
   "outputs": [],
   "source": [
    "model = load_model('models/LSTM.hdf5')\n",
    "# model = pickle.load(open('models/LSTM_2.model','rb'))"
   ]
  },
  {
   "cell_type": "code",
   "execution_count": 34,
   "id": "e4cb2c63-d790-4f37-bd93-6b8aa3bccb01",
   "metadata": {},
   "outputs": [],
   "source": [
    "class DataGenerator(tf.keras.utils.Sequence):\n",
    "    def __init__(self, melspectrograms, labels, n_classes,\n",
    "                batch_size, shuffle=True):\n",
    "        self.melspectrograms = melspectrograms\n",
    "        self.labels = labels\n",
    "        self.n_classes = n_classes\n",
    "        self.batch_size = batch_size\n",
    "        self.shuffle = True\n",
    "        self.on_epoch_end()\n",
    "    \n",
    "    \n",
    "    def __len__(self):\n",
    "        return int(np.floor(len(self.melspectrograms) / self.batch_size))\n",
    "    \n",
    "    \n",
    "    def __getitem__(self, index):\n",
    "        indexes = self.indexes[index*self.batch_size:(index+1)*self.batch_size]\n",
    "        melspectrogram = [np.asarray(self.melspectrograms[k]) for k in indexes]\n",
    "        labels = [self.labels[k] for k in indexes]\n",
    "\n",
    "        t = melspectrogram[0].shape[0]\n",
    "        dB = melspectrogram[0].shape[1]\n",
    "        \n",
    "        # generate a batch of time data\n",
    "        X = np.empty((self.batch_size, t, dB, 1), dtype=np.float32)\n",
    "        Y = np.empty((self.batch_size, self.n_classes), dtype=np.float32)\n",
    "        \n",
    "        for i, (mel, label) in enumerate(zip(melspectrogram, labels)):\n",
    "            X[i,] = np.expand_dims(mel, axis=2)\n",
    "            Y[i,] = to_categorical(label, num_classes=self.n_classes)\n",
    "        \n",
    "        return X, Y\n",
    "    \n",
    "    \n",
    "    def on_epoch_end(self):\n",
    "        self.indexes = np.arange(len(self.melspectrograms))\n",
    "        self.indexes = np.array(self.melspectrograms.index.tolist())\n",
    "        \n",
    "        if self.shuffle:\n",
    "            np.random.shuffle(self.indexes)\n"
   ]
  },
  {
   "cell_type": "code",
   "execution_count": 44,
   "id": "65653a9d-c0a9-487c-b28e-8433af194380",
   "metadata": {},
   "outputs": [],
   "source": [
    "tg = DataGenerator(X_ev, y_true, 4, batch_size=32)"
   ]
  },
  {
   "cell_type": "code",
   "execution_count": 47,
   "id": "15c8468b-081e-467f-ad6b-5cb13fd210cf",
   "metadata": {},
   "outputs": [
    {
     "name": "stdout",
     "output_type": "stream",
     "text": [
      "371/371 [==============================] - 1s 4ms/step - loss: 1.9916 - accuracy: 0.5711\n"
     ]
    },
    {
     "data": {
      "text/plain": [
       "[1.9915565252304077, 0.5710916519165039]"
      ]
     },
     "execution_count": 47,
     "metadata": {},
     "output_type": "execute_result"
    }
   ],
   "source": [
    "model.evaluate(tg, verbose=1)"
   ]
  },
  {
   "cell_type": "markdown",
   "id": "4ac12ae1-877d-497a-abe2-1e573e0cf9ac",
   "metadata": {},
   "source": [
    "**Remarks:** The accuracy of the test dataset is 0.5711 with loss value of 1.9916. The result is somewhat unexpected since the audio file came for the same source. This may due to the model overfit to the train dataset by a lot, resulting in a lower accuracy in test dataset."
   ]
  },
  {
   "cell_type": "code",
   "execution_count": 21,
   "id": "3462a72c-3744-4651-956e-9b64b337faf9",
   "metadata": {},
   "outputs": [
    {
     "name": "stdout",
     "output_type": "stream",
     "text": [
      "372/372 [==============================] - 4s 3ms/step\n"
     ]
    }
   ],
   "source": [
    "y_pred = model.predict(X_test)"
   ]
  },
  {
   "cell_type": "code",
   "execution_count": 22,
   "id": "aac89a9a-23dc-44a2-ba2a-d1330ac89750",
   "metadata": {},
   "outputs": [
    {
     "name": "stderr",
     "output_type": "stream",
     "text": [
      "Progress: 100%|██████████| 11880/11880 [00:00<00:00, 594808.90it/s]\n"
     ]
    }
   ],
   "source": [
    "y_final = []\n",
    "\n",
    "for pred in tqdm(y_pred, desc='Progress'):\n",
    "    y_final.append(np.argmax(pred))"
   ]
  },
  {
   "cell_type": "code",
   "execution_count": 23,
   "id": "378fc91c-150c-40f2-9c21-ec2bd63c1b0d",
   "metadata": {},
   "outputs": [
    {
     "data": {
      "text/plain": [
       "11880"
      ]
     },
     "execution_count": 23,
     "metadata": {},
     "output_type": "execute_result"
    }
   ],
   "source": [
    "len(y_final)"
   ]
  },
  {
   "cell_type": "code",
   "execution_count": 24,
   "id": "740c0139-0589-4c86-b8f8-ea1376e6b082",
   "metadata": {},
   "outputs": [],
   "source": [
    "y_true_label = df_test['scene_label'].tolist()\n",
    "y_pred_label = [classes[i] for i in y_final]"
   ]
  },
  {
   "cell_type": "code",
   "execution_count": 25,
   "id": "f5071cc9-a582-4655-bc48-bbb2f5111aef",
   "metadata": {},
   "outputs": [
    {
     "data": {
      "image/png": "[encoded data removed]",
      "text/plain": [
       "<Figure size 1080x720 with 2 Axes>"
      ]
     },
     "metadata": {
      "needs_background": "light"
     },
     "output_type": "display_data"
    }
   ],
   "source": [
    "conf_mat = confusion_matrix(y_true_label, y_pred_label, labels=classes)\n",
    "\n",
    "df_cm = pd.DataFrame(conf_mat, index = classes,\n",
    "                     columns = classes)\n",
    "\n",
    "f, ax = plt.subplots(figsize=(15, 10))\n",
    "\n",
    "sns.heatmap(df_cm, annot=True, cmap='viridis', fmt='g')\n",
    "\n",
    "plt.title('Confusion Matrix', y=1.08)\n",
    "plt.xlabel('Predicted')\n",
    "plt.ylabel('True')\n",
    "\n",
    "ax.xaxis.set_label_position('top')\n",
    "ax.xaxis.set_ticks_position('top')\n",
    "plt.show()"
   ]
  },
  {
   "cell_type": "markdown",
   "id": "905ff7a5-92e0-4e19-8bc2-433ddbfa1fa5",
   "metadata": {
    "jp-MarkdownHeadingCollapsed": true,
    "tags": []
   },
   "source": [
    "**Observation :** \n",
    "- The model predicts fairly well based on the confusion matrix, where street_traffic has the best accuracy among all the acoustic scenes\n",
    "- Based on the confusion matrix, the model is easily confused with bus and metro audio where they are wrongly classified to each other.\n",
    "- Meanwhile for the park audio, almost half of the files are classified as street_traffic. This may indicates that park and street traffic has similar audio soundscape. "
   ]
  },
  {
   "cell_type": "markdown",
   "id": "b0bbc2c3-1044-495b-8a22-c69539e004d6",
   "metadata": {},
   "source": [
    "## Testing Model with Longer Audio File"
   ]
  },
  {
   "cell_type": "code",
   "execution_count": 51,
   "id": "0ac60985-d041-4359-aeb0-ae07550c033a",
   "metadata": {
    "tags": []
   },
   "outputs": [],
   "source": [
    "AUDIO_FILE_PATH = 'recording.wav'\n",
    "\n",
    "def MelSpectrogram(signal, sr):\n",
    "    #obtain mel spectrogram\n",
    "    mel_spectrogram = librosa.feature.melspectrogram(signal, sr=sr, n_fft=2048, hop_length=512, n_mels=40)\n",
    "    \n",
    "    #change to dB scale\n",
    "    log_mel_spectrogram = librosa.power_to_db(mel_spectrogram)\n",
    "    \n",
    "    return log_mel_spectrogram.T\n",
    "\n",
    "\n",
    "\n",
    "def Classify(AUDIO_FILE_PATH):\n",
    "    batch = []\n",
    "    label = ['bus','metro','park','street_traffic']\n",
    "    \n",
    "    signal, sr = librosa.load(AUDIO_FILE_PATH)\n",
    "    \n",
    "    step = sr*1 # for 1 second duration clip\n",
    "\n",
    "    # create a 1 second melspectrogram and append inside the batch list\n",
    "    for i in range(0, signal.shape[0], step):\n",
    "        sample = signal[i:i+step]\n",
    "        \n",
    "        with warnings.catch_warnings():\n",
    "            warnings.simplefilter('ignore')\n",
    "            mel = MelSpectrogram(sample,sr)\n",
    "            \n",
    "        mel = np.expand_dims(mel, axis=2)\n",
    "\n",
    "        batch.append(mel)\n",
    "\n",
    "    X_batch = np.array(batch, dtype=np.float32)\n",
    "\n",
    "    y_pred = model.predict(X_batch)\n",
    "    y_mean = np.mean(y_pred, axis=0)\n",
    "    y_pred = np.argmax(y_mean)\n",
    "    print(label[y_pred])"
   ]
  },
  {
   "cell_type": "code",
   "execution_count": 52,
   "id": "1ce3bf46-9cc7-4010-8e7a-1cd5461710ea",
   "metadata": {},
   "outputs": [
    {
     "name": "stdout",
     "output_type": "stream",
     "text": [
      "1/1 [==============================] - 0s 0s/step\n",
      "park\n"
     ]
    }
   ],
   "source": [
    "Classify(AUDIO_FILE_PATH)"
   ]
  },
  {
   "cell_type": "markdown",
   "id": "23a3d0b9-464d-4e9a-8db3-dd75b9081454",
   "metadata": {},
   "source": [
    "This is the end of the third notebook. Next, we will cover the process of scraping song dataset and clustering the song based on our acoustic scene."
   ]
  }
 ],
 "metadata": {
  "kernelspec": {
   "display_name": "Python 3 (ipykernel)",
   "language": "python",
   "name": "python3"
  },
  "language_info": {
   "codemirror_mode": {
    "name": "ipython",
    "version": 3
   },
   "file_extension": ".py",
   "mimetype": "text/x-python",
   "name": "python",
   "nbconvert_exporter": "python",
   "pygments_lexer": "ipython3",
   "version": "3.9.7"
  }
 },
 "nbformat": 4,
 "nbformat_minor": 5
}
